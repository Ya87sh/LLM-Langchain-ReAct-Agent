{
 "cells": [
  {
   "cell_type": "code",
   "execution_count": 1,
   "metadata": {},
   "outputs": [],
   "source": [
    "import warnings\n",
    "warnings.filterwarnings('ignore')\n",
    "\n",
    "import os\n",
    "from dotenv import load_dotenv\n",
    "from openai import OpenAI\n",
    "\n",
    "from langchain.agents import initialize_agent, AgentType\n",
    "from langchain.chat_models import ChatOpenAI\n",
    "from langchain.prompts import PromptTemplate\n",
    "from utils import add_new_customer, check_existing_customer_email, validate_email, validate_phone, check_existing_customer_name, check_existing_customer_phone"
   ]
  },
  {
   "cell_type": "code",
   "execution_count": 2,
   "metadata": {},
   "outputs": [],
   "source": [
    "load_dotenv(override=True)\n",
    "openai_api_key = os.getenv('OPENAI_API_KEY')"
   ]
  },
  {
   "cell_type": "code",
   "execution_count": null,
   "metadata": {},
   "outputs": [],
   "source": [
    "# Get the List of Tools\n",
    "tools = [add_new_customer, check_existing_customer_email, validate_email, check_existing_customer_name, validate_phone, check_existing_customer_phone]\n",
    "\n",
    "# Initialize the agent with tools and an LLM\n",
    "llm = ChatOpenAI(temperature=0, model_name='gpt-4o-mini')\n",
    "agent = initialize_agent(tools=tools, llm=llm, agent=AgentType.ZERO_SHOT_REACT_DESCRIPTION, verbose=True)\n",
    "\n",
    "# Define a prompt template\n",
    "prompt_template = PromptTemplate(\n",
    "    input_variables=[\"query\"],\n",
    "    template=\"\"\"\n",
    "    You are an intelligent assistant with access to the following tools:\n",
    "    1. AddCustomer: Add a new customer with name, email, and phone.\n",
    "    2. CheckCustomerEmail: Check if a customer exists using their email.\n",
    "    3. CheckCustomerName: Check if a customer exists using their name.\n",
    "    3. CheckCustomerPhone: Check if a customer exists using their phone number.\n",
    "    4. ValidateEmail: Validate the format of an email address.\n",
    "    5. ValidatePhone: Validate the format of a phone number.\n",
    "\n",
    "    For any request to add a customer:\n",
    "    - First, verify if the customer already exists using their email or name or phone number\n",
    "    - Only if the customer does not exist, proceed to use AddCustomer if customer name, email, and phone number is given.\n",
    "\n",
    "    Respond to the following user query using the tools appropriately:\n",
    "    {query}\n",
    "    \"\"\"\n",
    ")"
   ]
  },
  {
   "cell_type": "code",
   "execution_count": null,
   "metadata": {},
   "outputs": [],
   "source": [
    "# User query example\n",
    "user_query = \"What is your name\"\n",
    "formatted_prompt = prompt_template.format(query=user_query)\n",
    "\n",
    "# Run the agent\n",
    "response = agent.invoke(formatted_prompt)\n",
    "print(\"Response:\", response['output'])"
   ]
  }
 ],
 "metadata": {
  "kernelspec": {
   "display_name": "envLLM",
   "language": "python",
   "name": "python3"
  },
  "language_info": {
   "codemirror_mode": {
    "name": "ipython",
    "version": 3
   },
   "file_extension": ".py",
   "mimetype": "text/x-python",
   "name": "python",
   "nbconvert_exporter": "python",
   "pygments_lexer": "ipython3",
   "version": "3.11.11"
  }
 },
 "nbformat": 4,
 "nbformat_minor": 2
}
